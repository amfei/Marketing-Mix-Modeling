{
  "nbformat": 4,
  "nbformat_minor": 0,
  "metadata": {
    "colab": {
      "private_outputs": true,
      "provenance": [],
      "authorship_tag": "ABX9TyNIWg6HoUvOA3Of8voTwtUM",
      "include_colab_link": true
    },
    "kernelspec": {
      "name": "python3",
      "display_name": "Python 3"
    },
    "language_info": {
      "name": "python"
    }
  },
  "cells": [
    {
      "cell_type": "markdown",
      "metadata": {
        "id": "view-in-github",
        "colab_type": "text"
      },
      "source": [
        "<a href=\"https://colab.research.google.com/github/amfei/Marketing-Mix-Modeling/blob/main/Marketing_mix_modeling.ipynb\" target=\"_parent\"><img src=\"https://colab.research.google.com/assets/colab-badge.svg\" alt=\"Open In Colab\"/></a>"
      ]
    },
    {
      "cell_type": "markdown",
      "source": [
        "# **Marketing Mix Modeling (MMM)**\n",
        "MMM is a statistical analysis technique that helps marketers understand the impact of various marketing activities on sales or other key performance indicators (KPIs). Ordinary Least Squares (OLS) regression is a common method used for this purpose.\n",
        "\n",
        "In MMM, we use historical data to assess the influence of different marketing channels, like TV, radio, digital advertising, and other factors, on a target variable like sales. OLS regression allows us to determine the relationship between these variables.\n",
        "\n",
        "Here is a Python example of how you might conduct marketing mix modeling using OLS regression with statsmodels"
      ],
      "metadata": {
        "id": "t3twVp-DYpYy"
      }
    },
    {
      "cell_type": "code",
      "source": [
        "import pandas as pd\n",
        "import numpy as np\n",
        "import statsmodels.api as sm\n",
        "import seaborn as sns\n",
        "import matplotlib.pyplot as plt\n",
        "\n",
        "# Create a DataFrame\n",
        "df = pd.read_excel(\"data0.xlsx\")\n",
        "print(df.columns)\n",
        "df= df[['Week',\t'Revenue',\t'Newspaper Ads',\t'Search Ads',\t'Social Ads',\t'Price Change',\t'Temperature',\t'Holiday']]\n",
        "# rename columns\n",
        "df.columns = ['Week',\t'Revenue',\t'Newspaper_Ads',\t'Search_Ads',\t'Social_Ads',\t'Price_Change',\t'Temperature',\t'Holiday']\n",
        "df.head()"
      ],
      "metadata": {
        "id": "TOhQEPG_YwxL"
      },
      "execution_count": null,
      "outputs": []
    },
    {
      "cell_type": "code",
      "source": [
        "# Visualize the data\n",
        "sns.pairplot(df, diag_kind='kde', kind='reg')\n",
        "plt.show()"
      ],
      "metadata": {
        "id": "34QzYuizYw0t"
      },
      "execution_count": null,
      "outputs": []
    },
    {
      "cell_type": "code",
      "source": [
        "# Define the independent variables (X) and the dependent variable (y)\n",
        "X = df[[\t'Newspaper_Ads',\t'Search_Ads', 'Social_Ads',\t'Price_Change',\t'Temperature',\t'Holiday']]\n",
        "y = df['Revenue']"
      ],
      "metadata": {
        "id": "TpzV9ZAgYw4j"
      },
      "execution_count": null,
      "outputs": []
    },
    {
      "cell_type": "code",
      "source": [
        "from sklearn.preprocessing import MinMaxScaler\n",
        "# Initialize the Min-Max Scaler\n",
        "scaler = MinMaxScaler()\n",
        "\n",
        "# Apply Min-Max Scaling\n",
        "X_scaled = scaler.fit_transform(X)\n",
        "\n",
        "# Create a DataFrame with scaled data\n",
        "X_scaled = pd.DataFrame(X_scaled, columns=X.columns)\n"
      ],
      "metadata": {
        "id": "Nm3XxkHyiuLy"
      },
      "execution_count": null,
      "outputs": []
    },
    {
      "cell_type": "code",
      "source": [
        "# Create a correlation matrix\n",
        "corr = X_scaled.corr()\n",
        "\n",
        "# Plot a heatmap\n",
        "plt.figure(figsize=(8, 6))\n",
        "sns.heatmap(corr, annot=True, cmap='coolwarm', linewidths=0.5, fmt=\".2f\")\n",
        "plt.title(\"Correlation Heatmap\")\n",
        "plt.show()"
      ],
      "metadata": {
        "id": "Pqvtj6DzxCyq"
      },
      "execution_count": null,
      "outputs": []
    },
    {
      "cell_type": "code",
      "source": [
        "from statsmodels.stats.outliers_influence import variance_inflation_factor\n",
        "\n",
        "def calc_vif(X):\n",
        "\n",
        "    # Calculating VIF\n",
        "    vif = pd.DataFrame()\n",
        "    vif[\"variables\"] = X_scaled.columns\n",
        "    vif[\"VIF\"] = [variance_inflation_factor(X.values, i) for i in range(X.shape[1])]\n",
        "\n",
        "    return(vif)\n",
        "\n",
        "\n",
        "f = calc_vif(X_scaled).sort_values(by = 'VIF', ascending = False)\n",
        "f"
      ],
      "metadata": {
        "id": "WxMr8cfWxUar"
      },
      "execution_count": null,
      "outputs": []
    },
    {
      "cell_type": "code",
      "source": [
        "X_scaled.drop(['Search_Ads'], axis = 1, inplace = True)"
      ],
      "metadata": {
        "id": "9pCvT8qsxdv-"
      },
      "execution_count": null,
      "outputs": []
    },
    {
      "cell_type": "code",
      "source": [
        "# Add a constant to the independent variables (for the intercept)\n",
        "X_scaled = sm.add_constant(X_scaled)\n",
        "\n",
        "X_scaled.head()"
      ],
      "metadata": {
        "id": "JAghVjH3iuQV"
      },
      "execution_count": null,
      "outputs": []
    },
    {
      "cell_type": "code",
      "source": [
        "# Fit the OLS model\n",
        "model = sm.OLS(y, X_scaled).fit()\n",
        "\n",
        "# Display the summary of the model\n",
        "print(model.summary())"
      ],
      "metadata": {
        "id": "hFLQwOPjSNvv"
      },
      "execution_count": null,
      "outputs": []
    },
    {
      "cell_type": "code",
      "source": [
        "predicted_revenue = model.predict(X_scaled)\n",
        "print(\"Predicted Revenue:\")\n",
        "predicted_revenue.head()"
      ],
      "metadata": {
        "id": "9eSlKVsJ7Xuo"
      },
      "execution_count": null,
      "outputs": []
    },
    {
      "cell_type": "code",
      "source": [
        "# Get the coefficients (excluding the constant)\n",
        "coefficients = model.params[1:]\n",
        "print('coefficients: ', coefficients)\n",
        "\n",
        "# Calculate the contribution of each feature\n",
        "contributions = X_scaled.iloc[:, 1:].multiply(coefficients, axis=1)\n",
        "\n",
        "# Add a column for the baseline (intercept)\n",
        "contributions['Baseline'] = model.params['const']\n",
        "\n",
        "contributions= contributions[['Baseline'\t,'Price_Change','Temperature',\t'Newspaper_Ads',\t\t'Social_Ads','Holiday']]\n",
        "contributions.index = range(1, len(contributions) + 1)\n",
        "contributions.head()"
      ],
      "metadata": {
        "id": "1jaZ_y9TYw69"
      },
      "execution_count": null,
      "outputs": []
    },
    {
      "cell_type": "code",
      "source": [
        "result= pd.DataFrame()\n",
        "result['Predicted Revenue']= predicted_revenue\n",
        "result['Revenue']= y\n",
        "result['Error'] = result['Predicted Revenue'] - result['Revenue']\n",
        "result['Error %'] = 100*result['Error']/y\n",
        "result.index = range(1, len(result) + 1)\n",
        "result.head()"
      ],
      "metadata": {
        "id": "R6Gy0uZ9yTru"
      },
      "execution_count": null,
      "outputs": []
    },
    {
      "cell_type": "code",
      "source": [
        "plt.figure(figsize = (8, 6))\n",
        "plt.plot(result.index,result['Predicted Revenue'], label = 'Predicted Revenue')\n",
        "\n",
        "plt.plot(result.index,result['Revenue'], label = 'Revenue')\n",
        "plt.legend()\n",
        "plt.xlabel(\"Week\")\n",
        "\n",
        "plt.grid(True, which='both', linestyle='--', linewidth=0.5)\n",
        "plt.show()"
      ],
      "metadata": {
        "id": "KZ0CAlXcLca9"
      },
      "execution_count": null,
      "outputs": []
    },
    {
      "cell_type": "code",
      "source": [
        "plt.bar(result.index,result['Error %'], color = 'r')\n",
        "plt.xlabel(\"Week\")\n",
        "plt.ylabel(\"Error %\")\n",
        "\n",
        "plt.grid(True, which='both', linestyle='--', linewidth=0.5)\n",
        "plt.show()"
      ],
      "metadata": {
        "id": "ubBYAAUeJbKh"
      },
      "execution_count": null,
      "outputs": []
    },
    {
      "cell_type": "code",
      "source": [
        "# Create a stack plot to show the contribution of each feature\n",
        "\n",
        "colors = sns.color_palette(\"Set2\", len(contributions.columns) - 1)\n",
        "\n",
        "plt.figure(figsize=(12,8))\n",
        "plt.stackplot(contributions.index, contributions.T, labels=contributions.columns, colors=colors, alpha=0.7)\n",
        "plt.plot(result.index, result['Revenue'] , c = 'k' ,label = 'Revenue')\n",
        "#plt.plot(Error.index, Error['Predicted Revenue'] ,c = 'b' ,label = 'Predicted Revenue')\n",
        "plt.xlabel(\"Time\")\n",
        "plt.ylabel(\"Revenue\")\n",
        "plt.title(\"Key Driver Stack Plot for Revenue\")\n",
        "plt.legend(loc=\"upper left\")\n",
        "plt.grid(True, which='both', linestyle='--', linewidth=0.5)\n",
        "plt.show()"
      ],
      "metadata": {
        "id": "l2xYMe_x5c41"
      },
      "execution_count": null,
      "outputs": []
    }
  ]
}